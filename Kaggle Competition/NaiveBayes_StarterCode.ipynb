{
 "cells": [
  {
   "cell_type": "markdown",
   "metadata": {},
   "source": [
    "# Sentiment Analysis Starter Code\n",
    "Use this code as a template, starting place, or inspiration... whatever helps you get started!"
   ]
  },
  {
   "cell_type": "markdown",
   "metadata": {},
   "source": [
    "## Imports\n",
    "This starter code requires the use of certain packages. You can install them via the command: `pip install seaborn nltk  beautifulsoup4 pandas sklearn tqdm numpy`\n",
    "\n",
    "If you are using Google Colab, you do not need to do this step."
   ]
  },
  {
   "cell_type": "code",
   "execution_count": 1,
   "metadata": {},
   "outputs": [
    {
     "name": "stderr",
     "output_type": "stream",
     "text": [
      "[nltk_data] Downloading package stopwords to\n",
      "[nltk_data]     /home/n8srumsey/nltk_data...\n",
      "[nltk_data]   Package stopwords is already up-to-date!\n"
     ]
    }
   ],
   "source": [
    "# Import Python Standard Library Packages\n",
    "import math\n",
    "import re\n",
    "import os\n",
    "from collections import Counter, defaultdict\n",
    "\n",
    "# Import Plotting Packages\n",
    "import matplotlib.pyplot as plt\n",
    "import seaborn as sns\n",
    "\n",
    "# Import Text Processing Packages\n",
    "import nltk\n",
    "from nltk.corpus import stopwords\n",
    "from bs4 import BeautifulSoup\n",
    "\n",
    "# Import Data Loading / ML Packages \n",
    "import numpy as np\n",
    "import pandas as pd\n",
    "from tqdm import tqdm\n",
    "from sklearn.model_selection import train_test_split\n",
    "from sklearn.metrics import accuracy_score, classification_report, confusion_matrix\n",
    "\n",
    "# Initialize configs / constants\n",
    "RANDOM_SEED = 42\n",
    "\n",
    "np.random.seed(RANDOM_SEED)\n",
    "nltk.download('stopwords')\n",
    "sns.set(style='whitegrid', palette='muted', font_scale=1.5)\n",
    "\n",
    "# Disable warnings for Beautiful Soup Package\n",
    "import warnings\n",
    "warnings.filterwarnings(\"ignore\", category=UserWarning, module='bs4')"
   ]
  },
  {
   "cell_type": "markdown",
   "metadata": {},
   "source": [
    "## Downloading Data\n",
    "Visit [https://www.kaggle.com/competitions/osuaiclub-fall2022-nlp-challenge/data](https://www.kaggle.com/competitions/osuaiclub-fall2022-nlp-challenge/data) to download the dataset!"
   ]
  },
  {
   "cell_type": "markdown",
   "metadata": {},
   "source": [
    "## Loading Data\n",
    "We will be using the `pandas` package to load in our data. All the data is conveniently stored in a `.csv` file which is really easy to construct a `pandas` dataframe out of."
   ]
  },
  {
   "cell_type": "code",
   "execution_count": 2,
   "metadata": {},
   "outputs": [],
   "source": [
    "DATA_DIR = './data/'"
   ]
  },
  {
   "cell_type": "code",
   "execution_count": 3,
   "metadata": {},
   "outputs": [
    {
     "data": {
      "text/html": [
       "<div>\n",
       "<style scoped>\n",
       "    .dataframe tbody tr th:only-of-type {\n",
       "        vertical-align: middle;\n",
       "    }\n",
       "\n",
       "    .dataframe tbody tr th {\n",
       "        vertical-align: top;\n",
       "    }\n",
       "\n",
       "    .dataframe thead th {\n",
       "        text-align: right;\n",
       "    }\n",
       "</style>\n",
       "<table border=\"1\" class=\"dataframe\">\n",
       "  <thead>\n",
       "    <tr style=\"text-align: right;\">\n",
       "      <th></th>\n",
       "      <th>review</th>\n",
       "      <th>sentiment</th>\n",
       "    </tr>\n",
       "    <tr>\n",
       "      <th>id</th>\n",
       "      <th></th>\n",
       "      <th></th>\n",
       "    </tr>\n",
       "  </thead>\n",
       "  <tbody>\n",
       "    <tr>\n",
       "      <th>10000</th>\n",
       "      <td>\" While sporadically engrossing (including a f...</td>\n",
       "      <td>0</td>\n",
       "    </tr>\n",
       "    <tr>\n",
       "      <th>10001</th>\n",
       "      <td>A French novelist, disgusted by his wife's soc...</td>\n",
       "      <td>1</td>\n",
       "    </tr>\n",
       "    <tr>\n",
       "      <th>10002</th>\n",
       "      <td>It must be remembered that the Gammera movies,...</td>\n",
       "      <td>0</td>\n",
       "    </tr>\n",
       "    <tr>\n",
       "      <th>10003</th>\n",
       "      <td>I gave this film 8 out of 10, reserving 10 for...</td>\n",
       "      <td>1</td>\n",
       "    </tr>\n",
       "    <tr>\n",
       "      <th>10004</th>\n",
       "      <td>Cheap, gloriously bad cheese from the 80's, th...</td>\n",
       "      <td>0</td>\n",
       "    </tr>\n",
       "    <tr>\n",
       "      <th>...</th>\n",
       "      <td>...</td>\n",
       "      <td>...</td>\n",
       "    </tr>\n",
       "    <tr>\n",
       "      <th>49995</th>\n",
       "      <td>I thought this movie did a down right good job...</td>\n",
       "      <td>1</td>\n",
       "    </tr>\n",
       "    <tr>\n",
       "      <th>49996</th>\n",
       "      <td>Bad plot, bad dialogue, bad acting, idiotic di...</td>\n",
       "      <td>0</td>\n",
       "    </tr>\n",
       "    <tr>\n",
       "      <th>49997</th>\n",
       "      <td>I am a Catholic taught in parochial elementary...</td>\n",
       "      <td>0</td>\n",
       "    </tr>\n",
       "    <tr>\n",
       "      <th>49998</th>\n",
       "      <td>I'm going to have to disagree with the previou...</td>\n",
       "      <td>0</td>\n",
       "    </tr>\n",
       "    <tr>\n",
       "      <th>49999</th>\n",
       "      <td>No one expects the Star Trek movies to be high...</td>\n",
       "      <td>0</td>\n",
       "    </tr>\n",
       "  </tbody>\n",
       "</table>\n",
       "<p>40000 rows × 2 columns</p>\n",
       "</div>"
      ],
      "text/plain": [
       "                                                  review  sentiment\n",
       "id                                                                 \n",
       "10000  \" While sporadically engrossing (including a f...          0\n",
       "10001  A French novelist, disgusted by his wife's soc...          1\n",
       "10002  It must be remembered that the Gammera movies,...          0\n",
       "10003  I gave this film 8 out of 10, reserving 10 for...          1\n",
       "10004  Cheap, gloriously bad cheese from the 80's, th...          0\n",
       "...                                                  ...        ...\n",
       "49995  I thought this movie did a down right good job...          1\n",
       "49996  Bad plot, bad dialogue, bad acting, idiotic di...          0\n",
       "49997  I am a Catholic taught in parochial elementary...          0\n",
       "49998  I'm going to have to disagree with the previou...          0\n",
       "49999  No one expects the Star Trek movies to be high...          0\n",
       "\n",
       "[40000 rows x 2 columns]"
      ]
     },
     "execution_count": 3,
     "metadata": {},
     "output_type": "execute_result"
    }
   ],
   "source": [
    "if os.path.exists(os.path.join(DATA_DIR, 'train.csv')):\n",
    "    train_df = pd.read_csv(os.path.join(DATA_DIR, 'train.csv'), index_col='id')\n",
    "else:\n",
    "    train_df = pd.read_csv(\"https://raw.githubusercontent.com/OSU-AIClub/Fall-2022/main/Kaggle%20Competition/data/train.csv\")\n",
    "train_df"
   ]
  },
  {
   "cell_type": "markdown",
   "metadata": {},
   "source": [
    "# Define Tokenizer\n",
    "Now that we have our data, we need to tokenize our input for the classifier to be able to process our input. Here, we are using sipmly just regex expressions, removing stop words, and normalization to tokenize and process our text. Consider adding different strategies such as stemming, lemmatization, parts of speech tagging, and named entity recognition to improve the accuracy further!"
   ]
  },
  {
   "cell_type": "code",
   "execution_count": 4,
   "metadata": {},
   "outputs": [],
   "source": [
    "class Tokenizer:\n",
    "  \n",
    "  def clean(self, text):\n",
    "      # Remove HTML Tags from input\n",
    "      no_html = BeautifulSoup(text).get_text()\n",
    "      \n",
    "      # Replace anything that isn't a letter with a space\n",
    "      clean = re.sub(\"[^a-z\\s]+\", \" \", no_html, flags=re.IGNORECASE)\n",
    "      \n",
    "      # Replace all whitespace with a single space\n",
    "      return re.sub(\"(\\s+)\", \" \", clean)\n",
    "\n",
    " \n",
    "  def tokenize(self, text):\n",
    "      # Clean input text\n",
    "      clean = self.clean(text).lower()\n",
    "      \n",
    "      # Use predefined list NLTK's English stopwords\n",
    "      stopwords_en = stopwords.words(\"english\")\n",
    "      \n",
    "      # Return the list of tokens (i.e. tokenized text)\n",
    "      return [w for w in re.split(\"\\W+\", clean) if not w in stopwords_en]\n",
    "  "
   ]
  },
  {
   "cell_type": "markdown",
   "metadata": {},
   "source": [
    "# Definte Naive-Bayes Classifier\n",
    "Next, we need to define our Naive-Bayes Classifier. There are many prebuilt classifiers, but we will be creating our own \"from scratch\". Play around and try different ones!"
   ]
  },
  {
   "cell_type": "code",
   "execution_count": 5,
   "metadata": {},
   "outputs": [],
   "source": [
    "class MultinomialNaiveBayes:\n",
    "  \n",
    "    def __init__(self, classes, tokenizer):\n",
    "      self.tokenizer = tokenizer\n",
    "      self.classes = classes\n",
    "      \n",
    "    def group_by_class(self, X, y):\n",
    "      data = dict()\n",
    "      for c in self.classes:\n",
    "        data[c] = X[np.where(y == c)]\n",
    "      return data\n",
    "           \n",
    "    def fit(self, X, y):\n",
    "        self.n_class_items = {}\n",
    "        self.log_class_priors = {}\n",
    "        self.word_counts = {}\n",
    "        self.vocab = set()\n",
    "\n",
    "        n = len(X)\n",
    "        \n",
    "        grouped_data = self.group_by_class(X, y)\n",
    "        \n",
    "        for c, data in grouped_data.items():\n",
    "          self.n_class_items[c] = len(data)\n",
    "          self.log_class_priors[c] = math.log(self.n_class_items[c] / n)\n",
    "          self.word_counts[c] = defaultdict(lambda: 0)\n",
    "          \n",
    "          for text in tqdm(data):\n",
    "            counts = Counter(self.tokenizer.tokenize(text))\n",
    "            for word, count in counts.items():\n",
    "                if word not in self.vocab:\n",
    "                    self.vocab.add(word)\n",
    "\n",
    "                self.word_counts[c][word] += count\n",
    "                \n",
    "        return self\n",
    "      \n",
    "    def laplace_smoothing(self, word, text_class):\n",
    "      num = self.word_counts[text_class][word] + 1\n",
    "      denom = self.n_class_items[text_class] + len(self.vocab)\n",
    "      return math.log(num / denom)\n",
    "      \n",
    "    def predict(self, X):\n",
    "        result = []\n",
    "        for text in tqdm(X):\n",
    "          \n",
    "          class_scores = {c: self.log_class_priors[c] for c in self.classes}\n",
    "\n",
    "          words = set(self.tokenizer.tokenize(text))\n",
    "          for word in words:\n",
    "              if word not in self.vocab: continue\n",
    "\n",
    "              for c in self.classes:\n",
    "                \n",
    "                log_w_given_c = self.laplace_smoothing(word, c)\n",
    "                class_scores[c] += log_w_given_c\n",
    "                \n",
    "          result.append(max(class_scores, key=class_scores.get))\n",
    "\n",
    "        return result"
   ]
  },
  {
   "cell_type": "markdown",
   "metadata": {},
   "source": [
    "# Define Train and Validation Partitions\n",
    "Now that we have defined the tokenizer and naive-bayes classifier, we now need to load the training data and split it into separate partitions. "
   ]
  },
  {
   "cell_type": "code",
   "execution_count": 6,
   "metadata": {},
   "outputs": [],
   "source": [
    "# Get list of input and output values for each training sample\n",
    "X = train_df['review'].values\n",
    "y = train_df['sentiment'].values\n",
    "  \n",
    "# Randomly split into a training and validation datasets\n",
    "X_train, X_val, y_train, y_val = train_test_split(X, y, test_size=0.2, random_state=RANDOM_SEED)"
   ]
  },
  {
   "cell_type": "markdown",
   "metadata": {},
   "source": [
    "# Fit Naive-Bayes Classifier\n",
    "Now that we have prepared the training data partition, we can instantiate and fit the Naive-Bayes Classifier on the training data."
   ]
  },
  {
   "cell_type": "code",
   "execution_count": 7,
   "metadata": {},
   "outputs": [
    {
     "name": "stderr",
     "output_type": "stream",
     "text": [
      "100%|██████████| 15966/15966 [00:07<00:00, 2217.53it/s]\n",
      "100%|██████████| 16034/16034 [00:07<00:00, 2120.21it/s]\n"
     ]
    }
   ],
   "source": [
    "# Initialize Model and Fit it to the Training Data\n",
    "MNB = MultinomialNaiveBayes(\n",
    "    classes=np.unique(y), \n",
    "    tokenizer=Tokenizer()\n",
    ").fit(X_train, y_train)"
   ]
  },
  {
   "cell_type": "markdown",
   "metadata": {},
   "source": [
    "## Evaluate Performance\n",
    "Now that we have fit our Naive-Bayes Classifier, we can predict the sentiment on the validation dataset to get an idea of how accurate our model is!"
   ]
  },
  {
   "cell_type": "code",
   "execution_count": 8,
   "metadata": {},
   "outputs": [
    {
     "name": "stderr",
     "output_type": "stream",
     "text": [
      "100%|██████████| 8000/8000 [00:04<00:00, 1741.49it/s]\n"
     ]
    }
   ],
   "source": [
    "# Predict sentiment on the validation dataset split\n",
    "y_hat = MNB.predict(X_val)"
   ]
  },
  {
   "cell_type": "code",
   "execution_count": 9,
   "metadata": {},
   "outputs": [
    {
     "data": {
      "text/plain": [
       "0.854375"
      ]
     },
     "execution_count": 9,
     "metadata": {},
     "output_type": "execute_result"
    }
   ],
   "source": [
    "# Get accuracy on the validation split\n",
    "accuracy_score(y_val, y_hat)"
   ]
  },
  {
   "cell_type": "code",
   "execution_count": 10,
   "metadata": {},
   "outputs": [
    {
     "name": "stdout",
     "output_type": "stream",
     "text": [
      "              precision    recall  f1-score   support\n",
      "\n",
      "           0       0.90      0.81      0.85      4062\n",
      "           1       0.82      0.90      0.86      3938\n",
      "\n",
      "    accuracy                           0.85      8000\n",
      "   macro avg       0.86      0.86      0.85      8000\n",
      "weighted avg       0.86      0.85      0.85      8000\n",
      "\n"
     ]
    }
   ],
   "source": [
    "# More performance metrics\n",
    "print(classification_report(y_val, y_hat))"
   ]
  },
  {
   "cell_type": "markdown",
   "metadata": {},
   "source": [
    "## Prdouce Confusion Matrix to  Visualize Results\n",
    "To visualize our True Positive, True Negative, False Positive, and False Negative predictions, we will plot a confusion matrix using `seaborn` and `pyplot`."
   ]
  },
  {
   "cell_type": "code",
   "execution_count": 11,
   "metadata": {},
   "outputs": [
    {
     "data": {
      "image/png": "[encoded data removed]",
      "text/plain": [
       "<Figure size 640x480 with 1 Axes>"
      ]
     },
     "metadata": {},
     "output_type": "display_data"
    }
   ],
   "source": [
    "# Produce confusion matrix of true positives, true negatives, false postives, and false negatives\n",
    "cnf_matrix = confusion_matrix(y_val, y_hat)\n",
    "\n",
    "# Create Plot\n",
    "class_names = [\"negative\", \"positive\"]\n",
    "fig,ax = plt.subplots()\n",
    "\n",
    "sns.heatmap(pd.DataFrame(cnf_matrix), annot=True, cmap=\"Blues\", fmt=\"d\", cbar=False, xticklabels=class_names, yticklabels=class_names)\n",
    "ax.xaxis.set_label_position('top')\n",
    "plt.tight_layout()\n",
    "plt.ylabel('Actual sentiment')\n",
    "plt.xlabel('Predicted sentiment');"
   ]
  },
  {
   "cell_type": "markdown",
   "metadata": {},
   "source": [
    "# Inference on Test Dataset\n",
    " Our model is now trained, and we have a good accuracy of `85%`! This means we can now predict the sentiment of each sample in the test dataset and save it to a `.csv` file so we can submit it to the Kaggle competition. "
   ]
  },
  {
   "cell_type": "code",
   "execution_count": 12,
   "metadata": {},
   "outputs": [
    {
     "ename": "NameError",
     "evalue": "name 'test_df' is not defined",
     "output_type": "error",
     "traceback": [
      "\u001b[0;31m---------------------------------------------------------------------------\u001b[0m",
      "\u001b[0;31mNameError\u001b[0m                                 Traceback (most recent call last)",
      "\u001b[1;32m/home/n8srumsey/Documents/AI_Club/Fall-2022/Kaggle Competition/NaiveBayes_StarterCode.ipynb Cell 23\u001b[0m in \u001b[0;36m<cell line: 8>\u001b[0;34m()\u001b[0m\n\u001b[1;32m      <a href='vscode-notebook-cell:/home/n8srumsey/Documents/AI_Club/Fall-2022/Kaggle%20Competition/NaiveBayes_StarterCode.ipynb#Y103sZmlsZQ%3D%3D?line=4'>5</a>\u001b[0m     train_df \u001b[39m=\u001b[39m pd\u001b[39m.\u001b[39mread_csv(\u001b[39m\"\u001b[39m\u001b[39mhttps://raw.githubusercontent.com/OSU-AIClub/Fall-2022/main/Kaggle\u001b[39m\u001b[39m%\u001b[39m\u001b[39m20Competition/data/test.csv\u001b[39m\u001b[39m\"\u001b[39m)\n\u001b[1;32m      <a href='vscode-notebook-cell:/home/n8srumsey/Documents/AI_Club/Fall-2022/Kaggle%20Competition/NaiveBayes_StarterCode.ipynb#Y103sZmlsZQ%3D%3D?line=6'>7</a>\u001b[0m \u001b[39m# Get input values and predict sentiment\u001b[39;00m\n\u001b[0;32m----> <a href='vscode-notebook-cell:/home/n8srumsey/Documents/AI_Club/Fall-2022/Kaggle%20Competition/NaiveBayes_StarterCode.ipynb#Y103sZmlsZQ%3D%3D?line=7'>8</a>\u001b[0m test_inputs \u001b[39m=\u001b[39m test_df[\u001b[39m'\u001b[39m\u001b[39mreview\u001b[39m\u001b[39m'\u001b[39m]\u001b[39m.\u001b[39mvalues\n\u001b[1;32m      <a href='vscode-notebook-cell:/home/n8srumsey/Documents/AI_Club/Fall-2022/Kaggle%20Competition/NaiveBayes_StarterCode.ipynb#Y103sZmlsZQ%3D%3D?line=8'>9</a>\u001b[0m predictions \u001b[39m=\u001b[39m MNB\u001b[39m.\u001b[39mpredict(test_inputs)\n\u001b[1;32m     <a href='vscode-notebook-cell:/home/n8srumsey/Documents/AI_Club/Fall-2022/Kaggle%20Competition/NaiveBayes_StarterCode.ipynb#Y103sZmlsZQ%3D%3D?line=9'>10</a>\u001b[0m submission \u001b[39m=\u001b[39m {\u001b[39m'\u001b[39m\u001b[39msentiment\u001b[39m\u001b[39m'\u001b[39m: predictions}\n",
      "\u001b[0;31mNameError\u001b[0m: name 'test_df' is not defined"
     ]
    }
   ],
   "source": [
    "# Read test dataset from file or internet\n",
    "if os.path.exists(os.path.join(DATA_DIR, 'test.csv')):\n",
    "    train_df = pd.read_csv(os.path.join(DATA_DIR, 'test.csv'), index_col='id')\n",
    "else:\n",
    "    train_df = pd.read_csv(\"https://raw.githubusercontent.com/OSU-AIClub/Fall-2022/main/Kaggle%20Competition/data/test.csv\")\n",
    "\n",
    "# Get input values and predict sentiment\n",
    "test_inputs = test_df['review'].values\n",
    "predictions = MNB.predict(test_inputs)\n",
    "submission = {'sentiment': predictions}\n",
    "\n",
    "# Convert predictions to a Pandas Dataframe   \n",
    "submission_df = pd.DataFrame(submission)\n",
    "submission_df.index.name = 'id'\n",
    "submission_df"
   ]
  },
  {
   "cell_type": "code",
   "execution_count": null,
   "metadata": {},
   "outputs": [],
   "source": [
    "# Save predictions to a CSV file for submission\n",
    "submission_df.to_csv('submission.csv')"
   ]
  },
  {
   "cell_type": "markdown",
   "metadata": {},
   "source": [
    "# Submit Predictions\n",
    "And that is it! We now have a `.csv` file containing sentiment predictions which we can now upload to get scored! Go to https://www.kaggle.com/competitions/osuaiclub-fall2022-sentiment-analysis/ and submit your prediction file."
   ]
  }
 ],
 "metadata": {
  "kernelspec": {
   "display_name": "Python 3.10.6 ('nlp')",
   "language": "python",
   "name": "python3"
  },
  "language_info": {
   "codemirror_mode": {
    "name": "ipython",
    "version": 3
   },
   "file_extension": ".py",
   "mimetype": "text/x-python",
   "name": "python",
   "nbconvert_exporter": "python",
   "pygments_lexer": "ipython3",
   "version": "3.10.6"
  },
  "orig_nbformat": 4,
  "vscode": {
   "interpreter": {
    "hash": "8fc8f51b3e16566cc87b17e2b645c7bac967f770095d25cf6c3af0b0fb8cea7a"
   }
  }
 },
 "nbformat": 4,
 "nbformat_minor": 2
}
