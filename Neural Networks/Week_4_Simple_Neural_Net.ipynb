{
  "cells": [
    {
      "cell_type": "code",
      "execution_count": null,
      "metadata": {
        "id": "16_Z-QURnAWY"
      },
      "outputs": [],
      "source": [
        "import numpy as np\n",
        "\n",
        "def sigmoid(x):\n",
        "  return 1/(1+np.exp(-x))\n",
        "\n",
        "# Input\n",
        "x1 = -2.0\n",
        "x2 = 5.0\n",
        "y_true = 15.0\n",
        "\n",
        "initial_weights = [ [ [1.0, -0.2], [10.0, -2.0] ], [40.0, -10.0] ]\n",
        "initial_biases = [ [5.0, -12], -10.2 ]\n",
        "\n",
        "# Weights and biases\n",
        "wa1 = initial_weights[0][0][0]\n",
        "wa2 = initial_weights[0][0][1]\n",
        "ba = initial_biases[0][0]\n",
        "\n",
        "wb1 = initial_weights[0][1][0]\n",
        "wb2 = initial_weights[0][1][1]\n",
        "bb = initial_biases[0][1]\n",
        "\n",
        "wc1 = initial_weights[1][0]\n",
        "wc2 = initial_weights[1][1]\n",
        "bc = initial_biases[1]"
      ]
    },
    {
      "cell_type": "code",
      "execution_count": null,
      "metadata": {
        "colab": {
          "base_uri": "https://localhost:8080/"
        },
        "id": "XrU9awzZBqSk",
        "outputId": "eb9ff0f4-acce-4554-ba00-95df9115d589"
      },
      "outputs": [
        {
          "name": "stdout",
          "output_type": "stream",
          "text": [
            "[0] y=25.031883119115296, true y = 15.0. loss=100.63867891559043\n",
            "[1] y=23.860520953333584, true y = 15.0. loss=78.50883156446348\n",
            "[2] y=22.367270510600306, true y = 15.0. loss=54.2766747763609\n",
            "[3] y=20.61159849178801, true y = 15.0. loss=31.49003763303745\n",
            "[4] y=18.81890681404904, true y = 15.0. loss=14.584049254390187\n",
            "[5] y=17.307645203887866, true y = 15.0. loss=5.325226387026669\n",
            "[6] y=16.264334434834275, true y = 15.0. loss=1.5985415631077058\n",
            "[7] y=15.64978205909921, true y = 15.0. loss=0.42221672432720814\n",
            "[8] y=15.322261691070098, true y = 15.0. loss=0.10385259753135939\n",
            "[9] y=15.156941854811091, true y = 15.0. loss=0.024630745791545575\n",
            "[10] y=15.075748084700363, true y = 15.0. loss=0.005737772335773382\n",
            "[11] y=15.036401150899955, true y = 15.0. loss=0.0013250437868413184\n",
            "[12] y=15.017456168161397, true y = 15.0. loss=0.0003047178068789684\n",
            "[13] y=15.008362692644138, true y = 15.0. loss=6.993462826031282e-05\n",
            "[14] y=15.004004369288213, true y = 15.0. loss=1.6034973396380066e-05\n",
            "[15] y=15.001916999072247, true y = 15.0. loss=3.6748854429948576e-06\n",
            "[16] y=15.000917617544214, true y = 15.0. loss=8.420219574498213e-07\n",
            "[17] y=15.000439216400748, true y = 15.0. loss=1.9291104668608563e-07\n",
            "[18] y=15.000210225017097, true y = 15.0. loss=4.419455781362016e-08\n",
            "[19] y=15.000100620155187, true y = 15.0. loss=1.0124415629939313e-08\n",
            "[20] y=15.000048159619922, true y = 15.0. loss=2.319348991052375e-09\n",
            "[21] y=15.000023050476807, true y = 15.0. loss=5.313244810431736e-10\n",
            "[22] y=15.000011032557484, true y = 15.0. loss=1.2171732464812194e-10\n",
            "[23] y=15.00000528046549, true y = 15.0. loss=2.7883315797865573e-11\n",
            "[24] y=15.000002527365691, true y = 15.0. loss=6.3875773358008274e-12\n",
            "[25] y=15.000001209661622, true y = 15.0. loss=1.463281240769162e-12\n",
            "[26] y=15.000000578974838, true y = 15.0. loss=3.352118628639086e-13\n",
            "[27] y=15.000000277112077, true y = 15.0. loss=7.679110337713519e-14\n",
            "[28] y=15.000000132632882, true y = 15.0. loss=1.7591481508238632e-14\n",
            "[29] y=15.000000063481473, true y = 15.0. loss=4.029897353702128e-15\n",
            "[30] y=15.000000030383854, true y = 15.0. loss=9.231785629454895e-16\n",
            "[31] y=15.000000014542486, true y = 15.0. loss=2.114839085495555e-16\n",
            "[32] y=15.0000000069604, true y = 15.0. loss=4.844717172597791e-17\n",
            "[33] y=15.000000003331424, true y = 15.0. loss=1.1098386037893266e-17\n",
            "[34] y=15.000000001594511, true y = 15.0. loss=2.542465934240661e-18\n",
            "[35] y=15.000000000763166, true y = 15.0. loss=5.824216273562086e-19\n",
            "[36] y=15.000000000365265, true y = 15.0. loss=1.3341863087001256e-19\n",
            "[37] y=15.000000000174834, true y = 15.0. loss=3.0567056655062285e-20\n",
            "[38] y=15.000000000083675, true y = 15.0. loss=7.001553975836906e-21\n",
            "[39] y=15.00000000004005, true y = 15.0. loss=1.6039817782864807e-21\n",
            "[40] y=15.000000000019169, true y = 15.0. loss=3.674377812909487e-22\n",
            "[41] y=15.000000000009178, true y = 15.0. loss=8.424368353612037e-23\n",
            "[42] y=15.000000000004395, true y = 15.0. loss=1.9313448039698087e-23\n",
            "[43] y=15.0000000000021, true y = 15.0. loss=4.4085460133840036e-24\n",
            "[44] y=15.000000000001009, true y = 15.0. loss=1.0180218427440949e-24\n",
            "[45] y=15.000000000000483, true y = 15.0. loss=2.3345234084748535e-25\n",
            "[46] y=15.000000000000238, true y = 15.0. loss=5.665914565659395e-26\n",
            "[47] y=15.000000000000114, true y = 15.0. loss=1.2924697071141057e-26\n",
            "[48] y=15.000000000000064, true y = 15.0. loss=4.089454932665725e-27\n",
            "[49] y=15.000000000000032, true y = 15.0. loss=1.0223637331664313e-27\n"
          ]
        }
      ],
      "source": [
        "for i in range(50):\n",
        "\n",
        "  # Forward pass\n",
        "  za = wa1 * x1 + wa2 * x2 + ba\n",
        "  aa = sigmoid(za)\n",
        "\n",
        "  zb = wb1 * x1 + wb2 * x2 + bb\n",
        "  ab = sigmoid(zb)\n",
        "\n",
        "  y = wc1 * aa + wc2 * ab + bc\n",
        "\n",
        "  loss = (y_true - y) ** 2\n",
        "\n",
        "  print(f\"[{i}] y={y}, true y = {y_true}. loss={loss}\")\n",
        "\n",
        "  # Backward Pass\n",
        "\n",
        "  # Gradients\n",
        "  # neuron C\n",
        "  dloss_dy = -2*(y_true - y)\n",
        "  dy_dwc1 = aa\n",
        "  dy_dwc2 = ab\n",
        "  dy_dbc = 1\n",
        "\n",
        "  # neuron A\n",
        "  dy_daa = wc1\n",
        "  daa_dza = aa*(1 - aa)\n",
        "  dza_dwa1 = x1\n",
        "  dza_dwa2 = x2\n",
        "  dza_dba = 1\n",
        "\n",
        "\n",
        "  # neuron B\n",
        "  dy_dab = wc2\n",
        "  dab_dzb = ab*(1 - ab)\n",
        "  dzb_dwb1 = x1\n",
        "  dzb_dwb2 = x2\n",
        "  dzb_dbb = 1\n",
        "\n",
        "\n",
        "  # Gradient descent\n",
        "\n",
        "  lr = 0.0001\n",
        "\n",
        "  dl_dlast = dloss_dy\n",
        "\n",
        "  wc1 = wc1 - lr * dl_dlast * dy_dwc1\n",
        "  wc2 = wc2 - lr * dl_dlast * dy_dwc2\n",
        "  bc = bc - lr * dl_dlast * dy_dbc\n",
        "\n",
        "  dl_dlast = dloss_dy * dy_daa * daa_dza\n",
        "\n",
        "  wa1 = wa1 - lr * dl_dlast * dza_dwa1\n",
        "  wa2 = wa2 - lr * dl_dlast * dza_dwa2\n",
        "  ba = ba - lr * dl_dlast * dza_dba\n",
        "\n",
        "  dl_dlast = dloss_dy * dy_dab * dab_dzb\n",
        "\n",
        "  wb1 = wb1 - lr * dl_dlast * dzb_dwb1\n",
        "  wb2 = wb2 - lr * dl_dlast * dzb_dwb2\n",
        "  bb = bb - lr * dl_dlast * dzb_dbb\n",
        "\n",
        "\n"
      ]
    },
    {
      "cell_type": "code",
      "execution_count": null,
      "metadata": {
        "colab": {
          "base_uri": "https://localhost:8080/"
        },
        "id": "LizF1KyPLr6Z",
        "outputId": "ace845c5-b6d6-4a49-9148-948847deeb17"
      },
      "outputs": [
        {
          "name": "stdout",
          "output_type": "stream",
          "text": [
            "Parameter \t Original Value \t New Value\n",
            "==============================================================\n",
            "W_a1 \t\t 1.0 \t\t\t 1.0977647396035692\n",
            "W_a2 \t\t -0.2 \t\t\t -0.4444118490089242\n",
            "B_a \t\t 5.0 \t\t\t 4.951117630198217\n",
            "\n",
            "W_b1 \t\t 10.0 \t\t\t 10.0\n",
            "W_b2 \t\t -2.0 \t\t\t -2.0\n",
            "B_b \t\t -12 \t\t\t -12.0\n",
            "\n",
            "W_c1 \t\t 40.0 \t\t\t 39.99345634993204\n",
            "W_c2 \t\t -10.0 \t\t\t -10.0\n",
            "B_c \t\t -10.2 \t\t\t -10.208107358929421\n"
          ]
        }
      ],
      "source": [
        "i_wa1 = initial_weights[0][0][0]\n",
        "i_wa2 = initial_weights[0][0][1]\n",
        "i_ba = initial_biases[0][0]\n",
        "\n",
        "i_wb1 = initial_weights[0][1][0]\n",
        "i_wb2 = initial_weights[0][1][1]\n",
        "i_bb = initial_biases[0][1]\n",
        "\n",
        "i_wc1 = initial_weights[1][0]\n",
        "i_wc2 = initial_weights[1][1]\n",
        "i_bc = initial_biases[1]\n",
        "\n",
        "print(\"Parameter \\t Original Value \\t New Value\")\n",
        "print(\"==============================================================\")\n",
        "print(f\"W_a1 \\t\\t {i_wa1} \\t\\t\\t {wa1}\")\n",
        "print(f\"W_a2 \\t\\t {i_wa2} \\t\\t\\t {wa2}\")\n",
        "print(f\"B_a \\t\\t {i_ba} \\t\\t\\t {ba}\")\n",
        "print()\n",
        "print(f\"W_b1 \\t\\t {i_wb1} \\t\\t\\t {wb1}\")\n",
        "print(f\"W_b2 \\t\\t {i_wb2} \\t\\t\\t {wb2}\")\n",
        "print(f\"B_b \\t\\t {i_bb} \\t\\t\\t {bb}\")\n",
        "print()\n",
        "print(f\"W_c1 \\t\\t {i_wc1} \\t\\t\\t {wc1}\")\n",
        "print(f\"W_c2 \\t\\t {i_wc2} \\t\\t\\t {wc2}\")\n",
        "print(f\"B_c \\t\\t {i_bc} \\t\\t\\t {bc}\")\n"
      ]
    }
  ],
  "metadata": {
    "colab": {
      "collapsed_sections": [],
      "provenance": []
    },
    "kernelspec": {
      "display_name": "Python 3.10.6 ('nlp')",
      "language": "python",
      "name": "python3"
    },
    "language_info": {
      "name": "python",
      "version": "3.10.6"
    },
    "vscode": {
      "interpreter": {
        "hash": "78495c176dcf7610bcdecaf3a7823a54fa8238d5432e6157930bbc78e0bf3e46"
      }
    }
  },
  "nbformat": 4,
  "nbformat_minor": 0
}
